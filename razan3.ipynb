{
 "cells": [
  {
   "cell_type": "code",
   "execution_count": null,
   "id": "65437199",
   "metadata": {},
   "outputs": [],
   "source": [
    "for i in range(45,210):\n",
    "    if i==100:\n",
    "        continue\n",
    "    elif i==205:\n",
    "        break\n",
    "    else:\n",
    "    print(i)"
   ]
  },
  {
   "cell_type": "code",
   "execution_count": 2,
   "id": "bab0e447",
   "metadata": {},
   "outputs": [
    {
     "name": "stdout",
     "output_type": "stream",
     "text": [
      "what is the product of 7 * 24 ? 2\n",
      "Your Answer is wrong try again..\n",
      "what is the product of 7 * 24 ? 168\n",
      "You answered this Question correctly\n"
     ]
    }
   ],
   "source": [
    "RS=5\n",
    "while RS!= 168:\n",
    "    RS= int(input(\"what is the product of 7 * 24 ? \"))\n",
    "\n",
    "    if RS== 168:\n",
    "        print(\"You answered this Question correctly\")    \n",
    "    else:\n",
    "        print(\"Your Answer is wrong try again..\") \n",
    "\n"
   ]
  },
  {
   "cell_type": "code",
   "execution_count": 16,
   "id": "c9410393",
   "metadata": {
    "scrolled": true
   },
   "outputs": [
    {
     "name": "stdout",
     "output_type": "stream",
     "text": [
      "Enter the number you want: 3\n",
      "3 2 1 \n",
      "2 1 \n",
      "1 \n"
     ]
    }
   ],
   "source": [
    "num = int(input(\"Enter the number you want: \"))\n",
    "def printnum(num:int):\n",
    "    for i in range(num , 0, -1):\n",
    "        for j in range(i, 0,-1):\n",
    "            print(j, end=\" \")\n",
    "        print(\"\")\n",
    "printnum(num)"
   ]
  },
  {
   "cell_type": "code",
   "execution_count": null,
   "id": "ba4131df",
   "metadata": {},
   "outputs": [],
   "source": []
  },
  {
   "cell_type": "code",
   "execution_count": null,
   "id": "57be96a9",
   "metadata": {},
   "outputs": [],
   "source": []
  },
  {
   "cell_type": "code",
   "execution_count": null,
   "id": "87cef836",
   "metadata": {},
   "outputs": [],
   "source": []
  }
 ],
 "metadata": {
  "kernelspec": {
   "display_name": "Python 3 (ipykernel)",
   "language": "python",
   "name": "python3"
  },
  "language_info": {
   "codemirror_mode": {
    "name": "ipython",
    "version": 3
   },
   "file_extension": ".py",
   "mimetype": "text/x-python",
   "name": "python",
   "nbconvert_exporter": "python",
   "pygments_lexer": "ipython3",
   "version": "3.9.13"
  }
 },
 "nbformat": 4,
 "nbformat_minor": 5
}
